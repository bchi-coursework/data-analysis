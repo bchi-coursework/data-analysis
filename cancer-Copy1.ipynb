{
 "cells": [
  {
   "cell_type": "markdown",
   "metadata": {},
   "source": [
    "<h1><b>Cancer Data Analysis</b></h1>"
   ]
  },
  {
   "cell_type": "markdown",
   "metadata": {},
   "source": [
    "<h2><b>Cleaning Process</b></h2>"
   ]
  },
  {
   "cell_type": "markdown",
   "metadata": {},
   "source": [
    "<p>Following are the steps we followed for data analysis</p>"
   ]
  },
  {
   "cell_type": "markdown",
   "metadata": {},
   "source": [
    "<p>1. Import the libraries</p>"
   ]
  },
  {
   "cell_type": "code",
   "execution_count": 20,
   "metadata": {},
   "outputs": [],
   "source": [
    "#Import the Libraries\n",
    "import numpy as np\n",
    "import pandas as pd\n",
    "import matplotlib.pyplot as plt\n",
    "\n",
    "%matplotlib inline\n",
    "\n",
    "# Algorithms\n",
    "from sklearn import linear_model\n",
    "from sklearn.linear_model import LinearRegression\n",
    "\n",
    "import seaborn as sns\n",
    "import warnings\n",
    "warnings.filterwarnings('ignore')"
   ]
  },
  {
   "cell_type": "markdown",
   "metadata": {},
   "source": [
    "<p>2.Load the dataset.</p>"
   ]
  },
  {
   "cell_type": "code",
   "execution_count": 21,
   "metadata": {},
   "outputs": [],
   "source": [
    "dataset=pd.read_csv('data/data.csv')"
   ]
  },
  {
   "cell_type": "code",
   "execution_count": 22,
   "metadata": {
    "scrolled": false
   },
   "outputs": [
    {
     "data": {
      "text/html": [
       "<div>\n",
       "<style scoped>\n",
       "    .dataframe tbody tr th:only-of-type {\n",
       "        vertical-align: middle;\n",
       "    }\n",
       "\n",
       "    .dataframe tbody tr th {\n",
       "        vertical-align: top;\n",
       "    }\n",
       "\n",
       "    .dataframe thead th {\n",
       "        text-align: right;\n",
       "    }\n",
       "</style>\n",
       "<table border=\"1\" class=\"dataframe\">\n",
       "  <thead>\n",
       "    <tr style=\"text-align: right;\">\n",
       "      <th></th>\n",
       "      <th>Indicator Category</th>\n",
       "      <th>Indicator</th>\n",
       "      <th>Year</th>\n",
       "      <th>Sex</th>\n",
       "      <th>Race/Ethnicity</th>\n",
       "      <th>Value</th>\n",
       "      <th>Place</th>\n",
       "      <th>BCHC Requested Methodology</th>\n",
       "      <th>Source</th>\n",
       "      <th>Methods</th>\n",
       "      <th>Notes</th>\n",
       "      <th>90% Confidence Level - Low</th>\n",
       "      <th>90% Confidence Level - High</th>\n",
       "      <th>95% Confidence Level - Low</th>\n",
       "      <th>95% Confidence Level - High</th>\n",
       "    </tr>\n",
       "  </thead>\n",
       "  <tbody>\n",
       "    <tr>\n",
       "      <th>0</th>\n",
       "      <td>Behavioral Health/Substance Abuse</td>\n",
       "      <td>Opioid-Related Unintentional Drug Overdose Mor...</td>\n",
       "      <td>2010</td>\n",
       "      <td>Both</td>\n",
       "      <td>All</td>\n",
       "      <td>1.7</td>\n",
       "      <td>Washington, DC</td>\n",
       "      <td>Age-Adjusted rate of opioid-related mortality ...</td>\n",
       "      <td>D.C. Department of Health, Center for Policy, ...</td>\n",
       "      <td>NaN</td>\n",
       "      <td>This indicator is not exclusive of other drugs...</td>\n",
       "      <td>NaN</td>\n",
       "      <td>NaN</td>\n",
       "      <td>NaN</td>\n",
       "      <td>NaN</td>\n",
       "    </tr>\n",
       "    <tr>\n",
       "      <th>1</th>\n",
       "      <td>Behavioral Health/Substance Abuse</td>\n",
       "      <td>Opioid-Related Unintentional Drug Overdose Mor...</td>\n",
       "      <td>2010</td>\n",
       "      <td>Both</td>\n",
       "      <td>All</td>\n",
       "      <td>2.2</td>\n",
       "      <td>Fort Worth (Tarrant County), TX</td>\n",
       "      <td>Age-adjusted rate of opioid-related mortality ...</td>\n",
       "      <td>National Center for Health Statistics</td>\n",
       "      <td>NaN</td>\n",
       "      <td>This indicator is not exclusive of other drugs...</td>\n",
       "      <td>NaN</td>\n",
       "      <td>NaN</td>\n",
       "      <td>1.5</td>\n",
       "      <td>3.0</td>\n",
       "    </tr>\n",
       "    <tr>\n",
       "      <th>2</th>\n",
       "      <td>Behavioral Health/Substance Abuse</td>\n",
       "      <td>Opioid-Related Unintentional Drug Overdose Mor...</td>\n",
       "      <td>2010</td>\n",
       "      <td>Both</td>\n",
       "      <td>All</td>\n",
       "      <td>2.3</td>\n",
       "      <td>Oakland (Alameda County), CA</td>\n",
       "      <td>Age-adjusted rate of opioid-related mortality ...</td>\n",
       "      <td>CDC Wonder</td>\n",
       "      <td>Age-adjusted rate of opioid-related mortality ...</td>\n",
       "      <td>Data is for Alameda County. This indicator is ...</td>\n",
       "      <td>NaN</td>\n",
       "      <td>NaN</td>\n",
       "      <td>1.6</td>\n",
       "      <td>3.2</td>\n",
       "    </tr>\n",
       "  </tbody>\n",
       "</table>\n",
       "</div>"
      ],
      "text/plain": [
       "                  Indicator Category  \\\n",
       "0  Behavioral Health/Substance Abuse   \n",
       "1  Behavioral Health/Substance Abuse   \n",
       "2  Behavioral Health/Substance Abuse   \n",
       "\n",
       "                                           Indicator  Year   Sex  \\\n",
       "0  Opioid-Related Unintentional Drug Overdose Mor...  2010  Both   \n",
       "1  Opioid-Related Unintentional Drug Overdose Mor...  2010  Both   \n",
       "2  Opioid-Related Unintentional Drug Overdose Mor...  2010  Both   \n",
       "\n",
       "  Race/Ethnicity  Value                            Place  \\\n",
       "0            All    1.7                   Washington, DC   \n",
       "1            All    2.2  Fort Worth (Tarrant County), TX   \n",
       "2            All    2.3     Oakland (Alameda County), CA   \n",
       "\n",
       "                          BCHC Requested Methodology  \\\n",
       "0  Age-Adjusted rate of opioid-related mortality ...   \n",
       "1  Age-adjusted rate of opioid-related mortality ...   \n",
       "2  Age-adjusted rate of opioid-related mortality ...   \n",
       "\n",
       "                                              Source  \\\n",
       "0  D.C. Department of Health, Center for Policy, ...   \n",
       "1              National Center for Health Statistics   \n",
       "2                                         CDC Wonder   \n",
       "\n",
       "                                             Methods  \\\n",
       "0                                                NaN   \n",
       "1                                                NaN   \n",
       "2  Age-adjusted rate of opioid-related mortality ...   \n",
       "\n",
       "                                               Notes  \\\n",
       "0  This indicator is not exclusive of other drugs...   \n",
       "1  This indicator is not exclusive of other drugs...   \n",
       "2  Data is for Alameda County. This indicator is ...   \n",
       "\n",
       "   90% Confidence Level - Low  90% Confidence Level - High  \\\n",
       "0                         NaN                          NaN   \n",
       "1                         NaN                          NaN   \n",
       "2                         NaN                          NaN   \n",
       "\n",
       "   95% Confidence Level - Low  95% Confidence Level - High  \n",
       "0                         NaN                          NaN  \n",
       "1                         1.5                          3.0  \n",
       "2                         1.6                          3.2  "
      ]
     },
     "execution_count": 22,
     "metadata": {},
     "output_type": "execute_result"
    }
   ],
   "source": [
    "dataset.head(3)"
   ]
  },
  {
   "cell_type": "markdown",
   "metadata": {},
   "source": [
    "<p>Above we saw the column names and we might need to fix the spaces in the column names. In order to change that we\n",
    "need to first know what are the actual names of the columns.</p>\n",
    "\n",
    "<p>We do that using the pandas function <i>columns</i> to list all the columns</p>"
   ]
  },
  {
   "cell_type": "code",
   "execution_count": 23,
   "metadata": {},
   "outputs": [
    {
     "data": {
      "text/plain": [
       "Index(['Indicator Category', 'Indicator', 'Year', 'Sex', 'Race/Ethnicity',\n",
       "       'Value', 'Place', 'BCHC Requested Methodology', 'Source', 'Methods',\n",
       "       'Notes', '90% Confidence Level - Low', '90% Confidence Level - High',\n",
       "       '95% Confidence Level - Low', '95% Confidence Level - High'],\n",
       "      dtype='object')"
      ]
     },
     "execution_count": 23,
     "metadata": {},
     "output_type": "execute_result"
    }
   ],
   "source": [
    "dataset.columns"
   ]
  },
  {
   "cell_type": "markdown",
   "metadata": {},
   "source": [
    "<p>Now we rename the columns</p>"
   ]
  },
  {
   "cell_type": "code",
   "execution_count": 24,
   "metadata": {},
   "outputs": [],
   "source": [
    "dataset.rename(columns={'Indicator Category':'indicator_category','Indicator':'indicator','Year':'year', 'Sex':'sex', 'Race/Ethnicity':'race_ethnicity',\n",
    "       'Value':'value', 'Place':'place', 'BCHC Requested Methodology':'bchc_req_meth', 'Source':'source', 'Methods':'methods',\n",
    "       'Notes':'notes', '90% Confidence Level - Low':'90pc_con_lvl-low', '90% Confidence Level - High':'90pc_con_lvl-high',\n",
    "       '95% Confidence Level - Low':'95pc_con_lvl-low','95% Confidence Level - High':'95pc_con_lvl-high'},inplace = True)"
   ]
  },
  {
   "cell_type": "code",
   "execution_count": 25,
   "metadata": {},
   "outputs": [],
   "source": [
    "dataset.drop(['bchc_req_meth','source','methods','notes'\n",
    "                ,'90pc_con_lvl-low','90pc_con_lvl-high'],\n",
    "                    axis = 1, inplace= True)"
   ]
  },
  {
   "cell_type": "code",
   "execution_count": 26,
   "metadata": {},
   "outputs": [],
   "source": [
    "dataset.dropna(axis=0, how='any',inplace= True)"
   ]
  },
  {
   "cell_type": "code",
   "execution_count": 27,
   "metadata": {},
   "outputs": [
    {
     "data": {
      "text/html": [
       "<div>\n",
       "<style scoped>\n",
       "    .dataframe tbody tr th:only-of-type {\n",
       "        vertical-align: middle;\n",
       "    }\n",
       "\n",
       "    .dataframe tbody tr th {\n",
       "        vertical-align: top;\n",
       "    }\n",
       "\n",
       "    .dataframe thead th {\n",
       "        text-align: right;\n",
       "    }\n",
       "</style>\n",
       "<table border=\"1\" class=\"dataframe\">\n",
       "  <thead>\n",
       "    <tr style=\"text-align: right;\">\n",
       "      <th></th>\n",
       "      <th>indicator_category</th>\n",
       "      <th>indicator</th>\n",
       "      <th>year</th>\n",
       "      <th>sex</th>\n",
       "      <th>race_ethnicity</th>\n",
       "      <th>value</th>\n",
       "      <th>place</th>\n",
       "      <th>95pc_con_lvl-low</th>\n",
       "      <th>95pc_con_lvl-high</th>\n",
       "    </tr>\n",
       "  </thead>\n",
       "  <tbody>\n",
       "    <tr>\n",
       "      <th>1</th>\n",
       "      <td>Behavioral Health/Substance Abuse</td>\n",
       "      <td>Opioid-Related Unintentional Drug Overdose Mor...</td>\n",
       "      <td>2010</td>\n",
       "      <td>Both</td>\n",
       "      <td>All</td>\n",
       "      <td>2.2</td>\n",
       "      <td>Fort Worth (Tarrant County), TX</td>\n",
       "      <td>1.5</td>\n",
       "      <td>3.0</td>\n",
       "    </tr>\n",
       "    <tr>\n",
       "      <th>2</th>\n",
       "      <td>Behavioral Health/Substance Abuse</td>\n",
       "      <td>Opioid-Related Unintentional Drug Overdose Mor...</td>\n",
       "      <td>2010</td>\n",
       "      <td>Both</td>\n",
       "      <td>All</td>\n",
       "      <td>2.3</td>\n",
       "      <td>Oakland (Alameda County), CA</td>\n",
       "      <td>1.6</td>\n",
       "      <td>3.2</td>\n",
       "    </tr>\n",
       "    <tr>\n",
       "      <th>3</th>\n",
       "      <td>Behavioral Health/Substance Abuse</td>\n",
       "      <td>Opioid-Related Unintentional Drug Overdose Mor...</td>\n",
       "      <td>2010</td>\n",
       "      <td>Both</td>\n",
       "      <td>All</td>\n",
       "      <td>3.0</td>\n",
       "      <td>San Antonio, TX</td>\n",
       "      <td>2.2</td>\n",
       "      <td>3.9</td>\n",
       "    </tr>\n",
       "  </tbody>\n",
       "</table>\n",
       "</div>"
      ],
      "text/plain": [
       "                  indicator_category  \\\n",
       "1  Behavioral Health/Substance Abuse   \n",
       "2  Behavioral Health/Substance Abuse   \n",
       "3  Behavioral Health/Substance Abuse   \n",
       "\n",
       "                                           indicator  year   sex  \\\n",
       "1  Opioid-Related Unintentional Drug Overdose Mor...  2010  Both   \n",
       "2  Opioid-Related Unintentional Drug Overdose Mor...  2010  Both   \n",
       "3  Opioid-Related Unintentional Drug Overdose Mor...  2010  Both   \n",
       "\n",
       "  race_ethnicity  value                            place  95pc_con_lvl-low  \\\n",
       "1            All    2.2  Fort Worth (Tarrant County), TX               1.5   \n",
       "2            All    2.3     Oakland (Alameda County), CA               1.6   \n",
       "3            All    3.0                  San Antonio, TX               2.2   \n",
       "\n",
       "   95pc_con_lvl-high  \n",
       "1                3.0  \n",
       "2                3.2  \n",
       "3                3.9  "
      ]
     },
     "execution_count": 27,
     "metadata": {},
     "output_type": "execute_result"
    }
   ],
   "source": [
    "dataset.head(3)"
   ]
  },
  {
   "cell_type": "code",
   "execution_count": 28,
   "metadata": {},
   "outputs": [],
   "source": [
    "category=['Cancer','Chronic Disease','HIV/AIDS','Infectious Disease',\n",
    "          'Injury/Violence','Life Expectancy and Death Rate (Overall)']"
   ]
  },
  {
   "cell_type": "code",
   "execution_count": 29,
   "metadata": {},
   "outputs": [],
   "source": [
    "filtered=dataset[dataset['indicator_category'].isin(category)]"
   ]
  },
  {
   "cell_type": "code",
   "execution_count": 32,
   "metadata": {},
   "outputs": [],
   "source": [
    "dummy=pd.get_dummies(filtered['indicator_category'])"
   ]
  },
  {
   "cell_type": "code",
   "execution_count": 37,
   "metadata": {},
   "outputs": [],
   "source": [
    "finaldata=pd.concat([filtered,dummy],axis=1)"
   ]
  },
  {
   "cell_type": "code",
   "execution_count": 39,
   "metadata": {},
   "outputs": [
    {
     "data": {
      "text/plain": [
       "Index(['indicator_category', 'indicator', 'year', 'sex', 'race_ethnicity',\n",
       "       'value', 'place', '95pc_con_lvl-low', '95pc_con_lvl-high', 'Cancer',\n",
       "       'Chronic Disease', 'HIV/AIDS', 'Infectious Disease', 'Injury/Violence',\n",
       "       'Life Expectancy and Death Rate (Overall)'],\n",
       "      dtype='object')"
      ]
     },
     "execution_count": 39,
     "metadata": {},
     "output_type": "execute_result"
    }
   ],
   "source": [
    "finaldata.columns"
   ]
  },
  {
   "cell_type": "code",
   "execution_count": 40,
   "metadata": {},
   "outputs": [],
   "source": [
    "finaldata1=finaldata.drop(['indicator_category','indicator'],axis=1)"
   ]
  },
  {
   "cell_type": "code",
   "execution_count": 44,
   "metadata": {},
   "outputs": [
    {
     "ename": "NameError",
     "evalue": "name 'cancer' is not defined",
     "output_type": "error",
     "traceback": [
      "\u001b[0;31m---------------------------------------------------------------------------\u001b[0m",
      "\u001b[0;31mNameError\u001b[0m                                 Traceback (most recent call last)",
      "\u001b[0;32m<ipython-input-44-b654ce79e2fd>\u001b[0m in \u001b[0;36m<module>\u001b[0;34m\u001b[0m\n\u001b[1;32m      2\u001b[0m \u001b[0;31m# lifespan = [2, 8, 70, 1.5, 25, 12, 28]\u001b[0m\u001b[0;34m\u001b[0m\u001b[0;34m\u001b[0m\u001b[0;34m\u001b[0m\u001b[0m\n\u001b[1;32m      3\u001b[0m \u001b[0mindex\u001b[0m \u001b[0;34m=\u001b[0m \u001b[0;34m[\u001b[0m\u001b[0;34m'2010'\u001b[0m\u001b[0;34m,\u001b[0m \u001b[0;34m'2011'\u001b[0m\u001b[0;34m,\u001b[0m \u001b[0;34m'2012'\u001b[0m\u001b[0;34m,\u001b[0m\u001b[0;34m'2013'\u001b[0m\u001b[0;34m,\u001b[0m \u001b[0;34m'2014'\u001b[0m\u001b[0;34m,\u001b[0m \u001b[0;34m'2015'\u001b[0m\u001b[0;34m,\u001b[0m\u001b[0;34m'2016'\u001b[0m\u001b[0;34m]\u001b[0m\u001b[0;34m\u001b[0m\u001b[0;34m\u001b[0m\u001b[0m\n\u001b[0;32m----> 4\u001b[0;31m \u001b[0mdf\u001b[0m \u001b[0;34m=\u001b[0m \u001b[0mpd\u001b[0m\u001b[0;34m.\u001b[0m\u001b[0mDataFrame\u001b[0m\u001b[0;34m(\u001b[0m\u001b[0;34m{\u001b[0m\u001b[0;34m'cancer'\u001b[0m\u001b[0;34m:\u001b[0m \u001b[0mcancer\u001b[0m\u001b[0;34m,\u001b[0m\u001b[0;34m'chronic_disease'\u001b[0m\u001b[0;34m:\u001b[0m \u001b[0mchronic_d\u001b[0m\u001b[0;34m,\u001b[0m\u001b[0;34m'HIV/AIDS'\u001b[0m\u001b[0;34m:\u001b[0m\u001b[0mhiv\u001b[0m\u001b[0;34m,\u001b[0m\u001b[0;34m'infectious_disease'\u001b[0m\u001b[0;34m:\u001b[0m\u001b[0minfection_d\u001b[0m\u001b[0;34m,\u001b[0m\u001b[0;34m'Injury/Violence'\u001b[0m\u001b[0;34m:\u001b[0m\u001b[0minjury\u001b[0m\u001b[0;34m,\u001b[0m\u001b[0;34m'life_expectancy_and_death_rate_overall'\u001b[0m\u001b[0;34m:\u001b[0m\u001b[0mlife\u001b[0m\u001b[0;34m}\u001b[0m\u001b[0;34m,\u001b[0m \u001b[0mindex\u001b[0m\u001b[0;34m=\u001b[0m\u001b[0mindex\u001b[0m\u001b[0;34m)\u001b[0m\u001b[0;34m\u001b[0m\u001b[0;34m\u001b[0m\u001b[0m\n\u001b[0m\u001b[1;32m      5\u001b[0m \u001b[0max\u001b[0m \u001b[0;34m=\u001b[0m \u001b[0mdf\u001b[0m\u001b[0;34m.\u001b[0m\u001b[0mplot\u001b[0m\u001b[0;34m.\u001b[0m\u001b[0mbar\u001b[0m\u001b[0;34m(\u001b[0m\u001b[0mrot\u001b[0m\u001b[0;34m=\u001b[0m\u001b[0;36m0\u001b[0m\u001b[0;34m)\u001b[0m\u001b[0;34m\u001b[0m\u001b[0;34m\u001b[0m\u001b[0m\n",
      "\u001b[0;31mNameError\u001b[0m: name 'cancer' is not defined"
     ]
    }
   ],
   "source": [
    "# speed = [0.1, 17.5, 40, 48, 52, 69, 88]\n",
    "# lifespan = [2, 8, 70, 1.5, 25, 12, 28]\n",
    "index = ['2010', '2011', '2012','2013', '2014', '2015','2016']\n",
    "df = pd.DataFrame({'cancer': cancer,'chronic_disease': chronic_d,'HIV/AIDS':hiv,\n",
    "                   'infectious_disease':infection_d,'Injury/Violence':injury,\n",
    "                   'life_expectancy_and_death_rate_overall':life}, index=index)\n",
    "ax = df.plot.bar(rot=0)"
   ]
  },
  {
   "cell_type": "markdown",
   "metadata": {},
   "source": [
    "<p>3.Now we need to filter the data according to the indicator category. We use one of the values \"Cancer\".</p>"
   ]
  },
  {
   "cell_type": "code",
   "execution_count": 6,
   "metadata": {},
   "outputs": [],
   "source": [
    "cancer_ds = dataset.loc[dataset[\"indicator_category\"] == \"Cancer\"]"
   ]
  },
  {
   "cell_type": "markdown",
   "metadata": {},
   "source": [
    "<p>4.And then we remove empty columns and unnecessary columns</p>"
   ]
  },
  {
   "cell_type": "markdown",
   "metadata": {},
   "source": [
    "<p>5. Now we remove all the rows which has NaN or NA values</p>"
   ]
  },
  {
   "cell_type": "code",
   "execution_count": 9,
   "metadata": {},
   "outputs": [],
   "source": [
    "cancer_ds.to_csv(\"data/cancer.csv\")"
   ]
  },
  {
   "cell_type": "markdown",
   "metadata": {},
   "source": [
    "<h1>Analysis</h1>\n",
    "\n",
    "First we'll see how many patients have been reported for cancer in respective years from 2010 to 2016. \n",
    "\n",
    "Following is the process to do the same"
   ]
  },
  {
   "cell_type": "code",
   "execution_count": 11,
   "metadata": {},
   "outputs": [],
   "source": [
    "c_year_2010=cancer_ds[cancer_ds['year']==2010]\n",
    "c_year_2010_count=c_year_2010['year'].count()\n"
   ]
  },
  {
   "cell_type": "code",
   "execution_count": 12,
   "metadata": {},
   "outputs": [
    {
     "data": {
      "text/plain": [
       "(138, 8)"
      ]
     },
     "execution_count": 12,
     "metadata": {},
     "output_type": "execute_result"
    }
   ],
   "source": [
    "c_year_2010.shape"
   ]
  },
  {
   "cell_type": "code",
   "execution_count": 13,
   "metadata": {},
   "outputs": [],
   "source": [
    "c_year_2011=cancer_ds[cancer_ds['year']==2011]\n",
    "c_year_2011_count=c_year_2011['year'].count()\n",
    "\n",
    "c_year_2012=cancer_ds[cancer_ds['year']==2012]\n",
    "c_year_2012_count=c_year_2012['year'].count()\n",
    "\n",
    "c_year_2013=cancer_ds[cancer_ds['year']==2013]\n",
    "c_year_2013_count=c_year_2013['year'].count()\n",
    "\n",
    "c_year_2014=cancer_ds[cancer_ds['year']==2014]\n",
    "c_year_2014_count=c_year_2014['year'].count()\n",
    "\n",
    "c_year_2015=cancer_ds[cancer_ds['year']==2015]\n",
    "c_year_2015_count=c_year_2015['year'].count()\n",
    "\n",
    "c_year_2016=cancer_ds[cancer_ds['year']==2016]\n",
    "c_year_2016_count=c_year_2016['year'].count()\n"
   ]
  },
  {
   "cell_type": "code",
   "execution_count": 14,
   "metadata": {},
   "outputs": [
    {
     "data": {
      "image/png": "[encoded data removed]",
      "text/plain": [
       "<Figure size 432x288 with 1 Axes>"
      ]
     },
     "metadata": {
      "needs_background": "light"
     },
     "output_type": "display_data"
    }
   ],
   "source": [
    "fig1 = pd.DataFrame({'Years':['2010', '2011', '2012','2013','2014','2015','2016'],\n",
    "                     'Categories':[c_year_2010_count, c_year_2011_count,c_year_2012_count,\n",
    "                                   c_year_2013_count,c_year_2014_count,c_year_2015_count,c_year_2016_count]})\n",
    "ax = fig1.plot.bar(x='Years', rot=0)"
   ]
  },
  {
   "cell_type": "markdown",
   "metadata": {},
   "source": [
    "<p>Now we calculate the number of cases for each type of cancer. In order to that we will group according to the \n",
    "indicator and take the count.</p>"
   ]
  },
  {
   "cell_type": "code",
   "execution_count": 15,
   "metadata": {},
   "outputs": [
    {
     "data": {
      "text/plain": [
       "All Types of Cancer Mortality Rate (Age-Adjusted; Per 100,000 people)     350\n",
       "Lung Cancer Mortality Rate (Age-Adjusted; Per 100,000 people)             306\n",
       "Female Breast Cancer Mortality Rate (Age-Adjusted; Per 100,000 people)    175\n",
       "Name: indicator, dtype: int64"
      ]
     },
     "execution_count": 15,
     "metadata": {},
     "output_type": "execute_result"
    }
   ],
   "source": [
    "sorted_cancer = cancer_ds['indicator'].value_counts()\n",
    "sorted_cancer"
   ]
  },
  {
   "cell_type": "markdown",
   "metadata": {},
   "source": [
    "<p>And we plot a histogram to see.</p>"
   ]
  },
  {
   "cell_type": "code",
   "execution_count": 16,
   "metadata": {
    "scrolled": true
   },
   "outputs": [
    {
     "data": {
      "image/png": "[encoded data removed]",
      "text/plain": [
       "<Figure size 432x288 with 1 Axes>"
      ]
     },
     "metadata": {
      "needs_background": "light"
     },
     "output_type": "display_data"
    }
   ],
   "source": [
    "labels=list(cancer_ds.columns)\n",
    "sorted_cancer = cancer_ds['indicator'].value_counts().plot(title='Number of cases', kind='bar')\n",
    "plt.show()\n",
    "#label=list(group.columns)"
   ]
  },
  {
   "cell_type": "markdown",
   "metadata": {},
   "source": [
    "Now we find out the distribution of cancer patients with respect to the race and ethnicity."
   ]
  },
  {
   "cell_type": "code",
   "execution_count": 17,
   "metadata": {},
   "outputs": [],
   "source": [
    "all=cancer_ds[cancer_ds['race_ethnicity']==\"All\"]\n",
    "all_count=all.race_ethnicity.count()\n",
    "\n",
    "asian=cancer_ds[cancer_ds['race_ethnicity']==\"Asian/PI\"]\n",
    "asian_count=asian.race_ethnicity.count()\n",
    "\n",
    "black=cancer_ds[cancer_ds['race_ethnicity']==\"Black\"]\n",
    "black_count=black.race_ethnicity.count()\n",
    "\n",
    "hispanic=cancer_ds[cancer_ds['race_ethnicity']==\"Hispanic\"]\n",
    "hispanic_count=hispanic.race_ethnicity.count()\n",
    "\n",
    "other=cancer_ds[cancer_ds['race_ethnicity']==\"Other\"]\n",
    "other_count=other.race_ethnicity.count()\n",
    "\n",
    "white=cancer_ds[cancer_ds['race_ethnicity']==\"White\"]\n",
    "white_count=white.race_ethnicity.count()"
   ]
  },
  {
   "cell_type": "code",
   "execution_count": 18,
   "metadata": {},
   "outputs": [
    {
     "data": {
      "image/png": "[encoded data removed]",
      "text/plain": [
       "<Figure size 432x288 with 1 Axes>"
      ]
     },
     "metadata": {
      "needs_background": "light"
     },
     "output_type": "display_data"
    }
   ],
   "source": [
    "fig2 = pd.DataFrame({'race_ethnicity':['All', 'Asian/PI', 'Black','Hispanic','Other','White'], 'Count':[all_count, asian_count,black_count, hispanic_count,other_count,white_count]})\n",
    "ax = fig2.plot.bar(x='race_ethnicity', rot=0)"
   ]
  },
  {
   "cell_type": "code",
   "execution_count": 19,
   "metadata": {},
   "outputs": [],
   "source": [
    "cancer_ds=cancer_ds.rename(columns={'95pc_con_lvl-low':'low','95pc_con_lvl-high':'high'})"
   ]
  },
  {
   "cell_type": "code",
   "execution_count": 20,
   "metadata": {},
   "outputs": [],
   "source": [
    "x='95pc_con_lvl-low'\n",
    "y='95pc_con_lvl-high'\n",
    "# ds= cancer_ds[(cancer_ds.low) & (cancer_ds.high)]\n",
    "ds=cancer_ds.drop(['indicator','year','sex','race_ethnicity'\n",
    "                ,'place','high'],\n",
    "                    axis = 1)"
   ]
  },
  {
   "cell_type": "code",
   "execution_count": 21,
   "metadata": {},
   "outputs": [
    {
     "data": {
      "text/html": [
       "<div>\n",
       "<style scoped>\n",
       "    .dataframe tbody tr th:only-of-type {\n",
       "        vertical-align: middle;\n",
       "    }\n",
       "\n",
       "    .dataframe tbody tr th {\n",
       "        vertical-align: top;\n",
       "    }\n",
       "\n",
       "    .dataframe thead th {\n",
       "        text-align: right;\n",
       "    }\n",
       "</style>\n",
       "<table border=\"1\" class=\"dataframe\">\n",
       "  <thead>\n",
       "    <tr style=\"text-align: right;\">\n",
       "      <th></th>\n",
       "      <th>value</th>\n",
       "      <th>low</th>\n",
       "    </tr>\n",
       "  </thead>\n",
       "  <tbody>\n",
       "    <tr>\n",
       "      <th>1468</th>\n",
       "      <td>149.9</td>\n",
       "      <td>145.3</td>\n",
       "    </tr>\n",
       "    <tr>\n",
       "      <th>1469</th>\n",
       "      <td>156.7</td>\n",
       "      <td>146.5</td>\n",
       "    </tr>\n",
       "    <tr>\n",
       "      <th>1470</th>\n",
       "      <td>159.9</td>\n",
       "      <td>153.5</td>\n",
       "    </tr>\n",
       "    <tr>\n",
       "      <th>1474</th>\n",
       "      <td>169.3</td>\n",
       "      <td>163.2</td>\n",
       "    </tr>\n",
       "    <tr>\n",
       "      <th>1476</th>\n",
       "      <td>172.2</td>\n",
       "      <td>158.9</td>\n",
       "    </tr>\n",
       "  </tbody>\n",
       "</table>\n",
       "</div>"
      ],
      "text/plain": [
       "      value    low\n",
       "1468  149.9  145.3\n",
       "1469  156.7  146.5\n",
       "1470  159.9  153.5\n",
       "1474  169.3  163.2\n",
       "1476  172.2  158.9"
      ]
     },
     "execution_count": 21,
     "metadata": {},
     "output_type": "execute_result"
    }
   ],
   "source": [
    "ds.head()"
   ]
  },
  {
   "cell_type": "code",
   "execution_count": 22,
   "metadata": {},
   "outputs": [
    {
     "data": {
      "image/png": "[encoded data removed]",
      "text/plain": [
       "<Figure size 432x288 with 1 Axes>"
      ]
     },
     "metadata": {
      "needs_background": "light"
     },
     "output_type": "display_data"
    }
   ],
   "source": [
    "#very simple plotting\n",
    "fig = plt.figure(1)\n",
    "ax1 = fig.add_subplot(111)\n",
    "ax1.set_xlabel('low')\n",
    "ax1.set_ylabel('value')\n",
    "ax1.set_title('Original Plot')\n",
    "ax1.scatter('low', 'value', data = ds);"
   ]
  },
  {
   "cell_type": "code",
   "execution_count": 23,
   "metadata": {},
   "outputs": [
    {
     "name": "stdout",
     "output_type": "stream",
     "text": [
      "formula: y = [[0.93518162]]x + [-5.28792177]\n"
     ]
    }
   ],
   "source": [
    "x_y = np.array(ds)\n",
    "x, y = x_y[:,0], x_y[:,1]\n",
    "\n",
    "# Reshaping\n",
    "x, y = x.reshape(-1,1), y.reshape(-1, 1)\n",
    "\n",
    "# Linear Regression Object \n",
    "lin_regression = LinearRegression()\n",
    "\n",
    "# Fitting linear model to the data\n",
    "lin_regression.fit(x,y)\n",
    "\n",
    "# Get slope of fitted line\n",
    "m = lin_regression.coef_\n",
    "\n",
    "# Get y-Intercept of the Line\n",
    "b = lin_regression.intercept_\n",
    "\n",
    "# Get Predictions for original x values\n",
    "# you can also get predictions for new data\n",
    "predictions = lin_regression.predict(x)\n",
    "\n",
    "# following slope intercept form \n",
    "print (\"formula: y = {0}x + {1}\".format(m, b) )"
   ]
  },
  {
   "cell_type": "code",
   "execution_count": 24,
   "metadata": {},
   "outputs": [
    {
     "data": {
      "image/png": "[encoded data removed]",
      "text/plain": [
       "<Figure size 432x288 with 1 Axes>"
      ]
     },
     "metadata": {
      "needs_background": "light"
     },
     "output_type": "display_data"
    }
   ],
   "source": [
    "plt.scatter(x, y,  color='red')\n",
    "plt.plot(x, predictions, color='blue',linewidth=3)\n",
    "plt.show()"
   ]
  }
 ],
 "metadata": {
  "kernelspec": {
   "display_name": "Python 3",
   "language": "python",
   "name": "python3"
  },
  "language_info": {
   "codemirror_mode": {
    "name": "ipython",
    "version": 3
   },
   "file_extension": ".py",
   "mimetype": "text/x-python",
   "name": "python",
   "nbconvert_exporter": "python",
   "pygments_lexer": "ipython3",
   "version": "3.7.1"
  }
 },
 "nbformat": 4,
 "nbformat_minor": 2
}
