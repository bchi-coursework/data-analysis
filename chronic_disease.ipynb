{
 "cells": [
  {
   "cell_type": "markdown",
   "metadata": {},
   "source": [
    "<h1><b>Analysis for Chronic Diseases</b></h1>"
   ]
  },
  {
   "cell_type": "markdown",
   "metadata": {},
   "source": [
    "<p>Following are the steps we followed for data analysis</p>"
   ]
  },
  {
   "cell_type": "markdown",
   "metadata": {},
   "source": [
    "<p>1. Import the libraries</p>"
   ]
  },
  {
   "cell_type": "code",
   "execution_count": 10,
   "metadata": {},
   "outputs": [],
   "source": [
    "#Import the Libraries\n",
    "import numpy as np\n",
    "import pandas as pd\n",
    "import matplotlib.pyplot as plt\n",
    "\n",
    "%matplotlib inline\n",
    "\n",
    "import seaborn as sns\n",
    "import warnings\n",
    "warnings.filterwarnings('ignore')"
   ]
  },
  {
   "cell_type": "markdown",
   "metadata": {},
   "source": [
    "<p>2.Load the dataset.</p>"
   ]
  },
  {
   "cell_type": "code",
   "execution_count": 11,
   "metadata": {},
   "outputs": [],
   "source": [
    "dataset=pd.read_csv('data/data.csv')"
   ]
  },
  {
   "cell_type": "code",
   "execution_count": 12,
   "metadata": {
    "scrolled": false
   },
   "outputs": [
    {
     "data": {
      "text/html": [
       "<div>\n",
       "<style scoped>\n",
       "    .dataframe tbody tr th:only-of-type {\n",
       "        vertical-align: middle;\n",
       "    }\n",
       "\n",
       "    .dataframe tbody tr th {\n",
       "        vertical-align: top;\n",
       "    }\n",
       "\n",
       "    .dataframe thead th {\n",
       "        text-align: right;\n",
       "    }\n",
       "</style>\n",
       "<table border=\"1\" class=\"dataframe\">\n",
       "  <thead>\n",
       "    <tr style=\"text-align: right;\">\n",
       "      <th></th>\n",
       "      <th>Indicator Category</th>\n",
       "      <th>Indicator</th>\n",
       "      <th>Year</th>\n",
       "      <th>Sex</th>\n",
       "      <th>Race/Ethnicity</th>\n",
       "      <th>Value</th>\n",
       "      <th>Place</th>\n",
       "      <th>BCHC Requested Methodology</th>\n",
       "      <th>Source</th>\n",
       "      <th>Methods</th>\n",
       "      <th>Notes</th>\n",
       "      <th>90% Confidence Level - Low</th>\n",
       "      <th>90% Confidence Level - High</th>\n",
       "      <th>95% Confidence Level - Low</th>\n",
       "      <th>95% Confidence Level - High</th>\n",
       "    </tr>\n",
       "  </thead>\n",
       "  <tbody>\n",
       "    <tr>\n",
       "      <th>0</th>\n",
       "      <td>Behavioral Health/Substance Abuse</td>\n",
       "      <td>Opioid-Related Unintentional Drug Overdose Mor...</td>\n",
       "      <td>2010</td>\n",
       "      <td>Both</td>\n",
       "      <td>All</td>\n",
       "      <td>1.7</td>\n",
       "      <td>Washington, DC</td>\n",
       "      <td>Age-Adjusted rate of opioid-related mortality ...</td>\n",
       "      <td>D.C. Department of Health, Center for Policy, ...</td>\n",
       "      <td>NaN</td>\n",
       "      <td>This indicator is not exclusive of other drugs...</td>\n",
       "      <td>NaN</td>\n",
       "      <td>NaN</td>\n",
       "      <td>NaN</td>\n",
       "      <td>NaN</td>\n",
       "    </tr>\n",
       "    <tr>\n",
       "      <th>1</th>\n",
       "      <td>Behavioral Health/Substance Abuse</td>\n",
       "      <td>Opioid-Related Unintentional Drug Overdose Mor...</td>\n",
       "      <td>2010</td>\n",
       "      <td>Both</td>\n",
       "      <td>All</td>\n",
       "      <td>2.2</td>\n",
       "      <td>Fort Worth (Tarrant County), TX</td>\n",
       "      <td>Age-adjusted rate of opioid-related mortality ...</td>\n",
       "      <td>National Center for Health Statistics</td>\n",
       "      <td>NaN</td>\n",
       "      <td>This indicator is not exclusive of other drugs...</td>\n",
       "      <td>NaN</td>\n",
       "      <td>NaN</td>\n",
       "      <td>1.5</td>\n",
       "      <td>3.0</td>\n",
       "    </tr>\n",
       "    <tr>\n",
       "      <th>2</th>\n",
       "      <td>Behavioral Health/Substance Abuse</td>\n",
       "      <td>Opioid-Related Unintentional Drug Overdose Mor...</td>\n",
       "      <td>2010</td>\n",
       "      <td>Both</td>\n",
       "      <td>All</td>\n",
       "      <td>2.3</td>\n",
       "      <td>Oakland (Alameda County), CA</td>\n",
       "      <td>Age-adjusted rate of opioid-related mortality ...</td>\n",
       "      <td>CDC Wonder</td>\n",
       "      <td>Age-adjusted rate of opioid-related mortality ...</td>\n",
       "      <td>Data is for Alameda County. This indicator is ...</td>\n",
       "      <td>NaN</td>\n",
       "      <td>NaN</td>\n",
       "      <td>1.6</td>\n",
       "      <td>3.2</td>\n",
       "    </tr>\n",
       "  </tbody>\n",
       "</table>\n",
       "</div>"
      ],
      "text/plain": [
       "                  Indicator Category  \\\n",
       "0  Behavioral Health/Substance Abuse   \n",
       "1  Behavioral Health/Substance Abuse   \n",
       "2  Behavioral Health/Substance Abuse   \n",
       "\n",
       "                                           Indicator  Year   Sex  \\\n",
       "0  Opioid-Related Unintentional Drug Overdose Mor...  2010  Both   \n",
       "1  Opioid-Related Unintentional Drug Overdose Mor...  2010  Both   \n",
       "2  Opioid-Related Unintentional Drug Overdose Mor...  2010  Both   \n",
       "\n",
       "  Race/Ethnicity  Value                            Place  \\\n",
       "0            All    1.7                   Washington, DC   \n",
       "1            All    2.2  Fort Worth (Tarrant County), TX   \n",
       "2            All    2.3     Oakland (Alameda County), CA   \n",
       "\n",
       "                          BCHC Requested Methodology  \\\n",
       "0  Age-Adjusted rate of opioid-related mortality ...   \n",
       "1  Age-adjusted rate of opioid-related mortality ...   \n",
       "2  Age-adjusted rate of opioid-related mortality ...   \n",
       "\n",
       "                                              Source  \\\n",
       "0  D.C. Department of Health, Center for Policy, ...   \n",
       "1              National Center for Health Statistics   \n",
       "2                                         CDC Wonder   \n",
       "\n",
       "                                             Methods  \\\n",
       "0                                                NaN   \n",
       "1                                                NaN   \n",
       "2  Age-adjusted rate of opioid-related mortality ...   \n",
       "\n",
       "                                               Notes  \\\n",
       "0  This indicator is not exclusive of other drugs...   \n",
       "1  This indicator is not exclusive of other drugs...   \n",
       "2  Data is for Alameda County. This indicator is ...   \n",
       "\n",
       "   90% Confidence Level - Low  90% Confidence Level - High  \\\n",
       "0                         NaN                          NaN   \n",
       "1                         NaN                          NaN   \n",
       "2                         NaN                          NaN   \n",
       "\n",
       "   95% Confidence Level - Low  95% Confidence Level - High  \n",
       "0                         NaN                          NaN  \n",
       "1                         1.5                          3.0  \n",
       "2                         1.6                          3.2  "
      ]
     },
     "execution_count": 12,
     "metadata": {},
     "output_type": "execute_result"
    }
   ],
   "source": [
    "dataset.head(3)"
   ]
  },
  {
   "cell_type": "markdown",
   "metadata": {},
   "source": [
    "<p>Above we saw the column names and we might need to fix the spaces in the column names. In order to change that we\n",
    "need to first know what are the actual names of the columns.</p>\n",
    "\n",
    "<p>We do that using the pandas function <i>columns</i> to list all the columns</p>"
   ]
  },
  {
   "cell_type": "code",
   "execution_count": 13,
   "metadata": {},
   "outputs": [
    {
     "data": {
      "text/plain": [
       "Index(['Indicator Category', 'Indicator', 'Year', 'Sex', 'Race/Ethnicity',\n",
       "       'Value', 'Place', 'BCHC Requested Methodology', 'Source', 'Methods',\n",
       "       'Notes', '90% Confidence Level - Low', '90% Confidence Level - High',\n",
       "       '95% Confidence Level - Low', '95% Confidence Level - High'],\n",
       "      dtype='object')"
      ]
     },
     "execution_count": 13,
     "metadata": {},
     "output_type": "execute_result"
    }
   ],
   "source": [
    "dataset.columns"
   ]
  },
  {
   "cell_type": "markdown",
   "metadata": {},
   "source": [
    "<p>Now we rename the columns</p>"
   ]
  },
  {
   "cell_type": "code",
   "execution_count": 17,
   "metadata": {},
   "outputs": [],
   "source": [
    "dataset.rename(columns={'Indicator Category':'indicator_category','Indicator':'indicator','Year':'year', 'Sex':'sex', 'Race/Ethnicity':'race_ethnicity',\n",
    "       'Value':'value', 'Place':'place', 'BCHC Requested Methodology':'bchc_req_meth', 'Source':'source', 'Methods':'methods',\n",
    "       'Notes':'notes', '90% Confidence Level - Low':'90pc_con_lvl-low', '90% Confidence Level - High':'90pc_con_lvl-high',\n",
    "       '95% Confidence Level - Low':'95pc_con_lvl-low','95% Confidence Level - High':'95pc_con_lvl-high'},inplace = True)"
   ]
  },
  {
   "cell_type": "markdown",
   "metadata": {},
   "source": [
    "<p>3.Now we need to filter the data according to the indicator category. We use one of the values \"Cancer\".</p>"
   ]
  },
  {
   "cell_type": "code",
   "execution_count": 18,
   "metadata": {},
   "outputs": [],
   "source": [
    "chronic_dis_ds = dataset.loc[dataset[\"indicator_category\"] == \"Chronic Disease\"]"
   ]
  },
  {
   "cell_type": "markdown",
   "metadata": {},
   "source": [
    "<p>4.And then we remove empty columns and unnecessary columns</p>"
   ]
  },
  {
   "cell_type": "code",
   "execution_count": 19,
   "metadata": {},
   "outputs": [],
   "source": [
    "chronic_dis_ds.drop(['indicator_category','bchc_req_meth','source','methods','notes','90pc_con_lvl-low','90pc_con_lvl-high'],\n",
    "                    axis = 1, inplace= True)"
   ]
  },
  {
   "cell_type": "markdown",
   "metadata": {},
   "source": [
    "<p>5. Now we remove all the rows which has NaN or NA values</p>"
   ]
  },
  {
   "cell_type": "code",
   "execution_count": 20,
   "metadata": {},
   "outputs": [],
   "source": [
    "chronic_dis_ds.dropna(axis=0, how='any',inplace= True)"
   ]
  },
  {
   "cell_type": "code",
   "execution_count": 31,
   "metadata": {},
   "outputs": [],
   "source": [
    "chronic_dis_ds.to_csv(\"data/chronic_disease.csv\")"
   ]
  },
  {
   "cell_type": "code",
   "execution_count": 22,
   "metadata": {},
   "outputs": [
    {
     "data": {
      "text/html": [
       "<div>\n",
       "<style scoped>\n",
       "    .dataframe tbody tr th:only-of-type {\n",
       "        vertical-align: middle;\n",
       "    }\n",
       "\n",
       "    .dataframe tbody tr th {\n",
       "        vertical-align: top;\n",
       "    }\n",
       "\n",
       "    .dataframe thead th {\n",
       "        text-align: right;\n",
       "    }\n",
       "</style>\n",
       "<table border=\"1\" class=\"dataframe\">\n",
       "  <thead>\n",
       "    <tr style=\"text-align: right;\">\n",
       "      <th></th>\n",
       "      <th>indicator</th>\n",
       "      <th>year</th>\n",
       "      <th>sex</th>\n",
       "      <th>race_ethnicity</th>\n",
       "      <th>value</th>\n",
       "      <th>place</th>\n",
       "      <th>95pc_con_lvl-low</th>\n",
       "      <th>95pc_con_lvl-high</th>\n",
       "    </tr>\n",
       "  </thead>\n",
       "  <tbody>\n",
       "    <tr>\n",
       "      <th>4136</th>\n",
       "      <td>Asthma Emergency Department Visit Rate (Age-Ad...</td>\n",
       "      <td>2010</td>\n",
       "      <td>Both</td>\n",
       "      <td>All</td>\n",
       "      <td>99.4</td>\n",
       "      <td>Chicago, Il</td>\n",
       "      <td>98.1</td>\n",
       "      <td>100.6</td>\n",
       "    </tr>\n",
       "    <tr>\n",
       "      <th>4137</th>\n",
       "      <td>Asthma Emergency Department Visit Rate (Age-Ad...</td>\n",
       "      <td>2010</td>\n",
       "      <td>Both</td>\n",
       "      <td>All</td>\n",
       "      <td>109.0</td>\n",
       "      <td>Las Vegas (Clark County), NV</td>\n",
       "      <td>107.5</td>\n",
       "      <td>110.5</td>\n",
       "    </tr>\n",
       "    <tr>\n",
       "      <th>4139</th>\n",
       "      <td>Asthma Emergency Department Visit Rate (Age-Ad...</td>\n",
       "      <td>2010</td>\n",
       "      <td>Both</td>\n",
       "      <td>Asian/PI</td>\n",
       "      <td>12.9</td>\n",
       "      <td>Chicago, Il</td>\n",
       "      <td>10.8</td>\n",
       "      <td>15.1</td>\n",
       "    </tr>\n",
       "  </tbody>\n",
       "</table>\n",
       "</div>"
      ],
      "text/plain": [
       "                                              indicator  year   sex  \\\n",
       "4136  Asthma Emergency Department Visit Rate (Age-Ad...  2010  Both   \n",
       "4137  Asthma Emergency Department Visit Rate (Age-Ad...  2010  Both   \n",
       "4139  Asthma Emergency Department Visit Rate (Age-Ad...  2010  Both   \n",
       "\n",
       "     race_ethnicity  value                         place  95pc_con_lvl-low  \\\n",
       "4136            All   99.4                   Chicago, Il              98.1   \n",
       "4137            All  109.0  Las Vegas (Clark County), NV             107.5   \n",
       "4139       Asian/PI   12.9                   Chicago, Il              10.8   \n",
       "\n",
       "      95pc_con_lvl-high  \n",
       "4136              100.6  \n",
       "4137              110.5  \n",
       "4139               15.1  "
      ]
     },
     "execution_count": 22,
     "metadata": {},
     "output_type": "execute_result"
    }
   ],
   "source": [
    "chronic_dis_ds.head(3)"
   ]
  },
  {
   "cell_type": "markdown",
   "metadata": {},
   "source": [
    "<h1>Analysis</h1>\n",
    "\n",
    "First we'll see how many patients have been reported for cancer in respective years from 2010 to 2016. \n",
    "\n",
    "Following is the process to do the same"
   ]
  },
  {
   "cell_type": "code",
   "execution_count": 23,
   "metadata": {},
   "outputs": [],
   "source": [
    "c_year_2010=chronic_dis_ds[chronic_dis_ds['year']==2010]\n",
    "c_year_2010_count=c_year_2010['year'].count()\n"
   ]
  },
  {
   "cell_type": "code",
   "execution_count": 24,
   "metadata": {},
   "outputs": [
    {
     "data": {
      "text/plain": [
       "(201, 8)"
      ]
     },
     "execution_count": 24,
     "metadata": {},
     "output_type": "execute_result"
    }
   ],
   "source": [
    "c_year_2010.shape"
   ]
  },
  {
   "cell_type": "code",
   "execution_count": 25,
   "metadata": {},
   "outputs": [],
   "source": [
    "c_year_2011=chronic_dis_ds[chronic_dis_ds['year']==2011]\n",
    "c_year_2011_count=c_year_2011['year'].count()\n",
    "\n",
    "c_year_2012=chronic_dis_ds[chronic_dis_ds['year']==2012]\n",
    "c_year_2012_count=c_year_2012['year'].count()\n",
    "\n",
    "c_year_2013=chronic_dis_ds[chronic_dis_ds['year']==2013]\n",
    "c_year_2013_count=c_year_2013['year'].count()\n",
    "\n",
    "c_year_2014=chronic_dis_ds[chronic_dis_ds['year']==2014]\n",
    "c_year_2014_count=c_year_2014['year'].count()\n",
    "\n",
    "c_year_2015=chronic_dis_ds[chronic_dis_ds['year']==2015]\n",
    "c_year_2015_count=c_year_2015['year'].count()\n",
    "\n",
    "c_year_2016=chronic_dis_ds[chronic_dis_ds['year']==2016]\n",
    "c_year_2016_count=c_year_2016['year'].count()\n"
   ]
  },
  {
   "cell_type": "code",
   "execution_count": 26,
   "metadata": {},
   "outputs": [
    {
     "data": {
      "image/png": "[encoded data removed]",
      "text/plain": [
       "<Figure size 432x288 with 1 Axes>"
      ]
     },
     "metadata": {
      "needs_background": "light"
     },
     "output_type": "display_data"
    }
   ],
   "source": [
    "fig1 = pd.DataFrame({'Years':['2010', '2011', '2012','2013','2014','2015','2016'], 'Categories':[c_year_2010_count, c_year_2011_count,c_year_2012_count, c_year_2013_count,c_year_2014_count,c_year_2015_count,c_year_2016_count]})\n",
    "ax = fig1.plot.bar(x='Years', y='Categories', rot=0)"
   ]
  },
  {
   "cell_type": "markdown",
   "metadata": {},
   "source": [
    "<p>Now we calculate the number of cases for each type of cancer. In order to that we will group according to the \n",
    "indicator and take the count.</p>"
   ]
  },
  {
   "cell_type": "code",
   "execution_count": 27,
   "metadata": {},
   "outputs": [
    {
     "data": {
      "text/plain": [
       "Percent of Adults Who Are Obese                                                      392\n",
       "Heart Disease Mortality Rate (Age-Adjusted; Per 100,000 people)                      390\n",
       "Diabetes Mortality Rate (Age-Adjusted; Per 100,000 people)                           344\n",
       "Percent of Adults Who Currently Smoke                                                297\n",
       "Percent of Adults Who Meet CDC-Recommended Physical Activity Levels                  209\n",
       "Percent of High School Students Who Are Obese                                        139\n",
       "Percent of High School Students Who Currently Smoke                                  121\n",
       "Percent of High School Students Who Meet CDC-Recommended Physical Activity Levels    101\n",
       "Asthma Emergency Department Visit Rate (Age-Adjusted; Per 10,000)                     83\n",
       "Name: indicator, dtype: int64"
      ]
     },
     "execution_count": 27,
     "metadata": {},
     "output_type": "execute_result"
    }
   ],
   "source": [
    "sorted_cd = chronic_dis_ds['indicator'].value_counts()\n",
    "sorted_cd"
   ]
  },
  {
   "cell_type": "markdown",
   "metadata": {},
   "source": [
    "<p>And we plot a histogram to see.</p>"
   ]
  },
  {
   "cell_type": "code",
   "execution_count": 28,
   "metadata": {},
   "outputs": [
    {
     "data": {
      "image/png": "[encoded data removed]",
      "text/plain": [
       "<Figure size 432x288 with 1 Axes>"
      ]
     },
     "metadata": {
      "needs_background": "light"
     },
     "output_type": "display_data"
    }
   ],
   "source": [
    "labels=list(chronic_dis_ds.columns)\n",
    "sorted_cd = chronic_dis_ds['indicator'].value_counts().plot(title='Number of cases', kind='bar')\n",
    "plt.show()\n",
    "#label=list(group.columns)"
   ]
  },
  {
   "cell_type": "markdown",
   "metadata": {},
   "source": [
    "Now we find out the distribution of cancer patients with respect to the race and ethnicity."
   ]
  },
  {
   "cell_type": "code",
   "execution_count": 29,
   "metadata": {},
   "outputs": [],
   "source": [
    "all=chronic_dis_ds[chronic_dis_ds['race_ethnicity']==\"All\"]\n",
    "all_count=all.race_ethnicity.count()\n",
    "\n",
    "asian=chronic_dis_ds[chronic_dis_ds['race_ethnicity']==\"Asian/PI\"]\n",
    "asian_count=asian.race_ethnicity.count()\n",
    "\n",
    "black=chronic_dis_ds[chronic_dis_ds['race_ethnicity']==\"Black\"]\n",
    "black_count=black.race_ethnicity.count()\n",
    "\n",
    "hispanic=chronic_dis_ds[chronic_dis_ds['race_ethnicity']==\"Hispanic\"]\n",
    "hispanic_count=hispanic.race_ethnicity.count()\n",
    "\n",
    "other=chronic_dis_ds[chronic_dis_ds['race_ethnicity']==\"Other\"]\n",
    "other_count=other.race_ethnicity.count()\n",
    "\n",
    "white=chronic_dis_ds[chronic_dis_ds['race_ethnicity']==\"White\"]\n",
    "white_count=white.race_ethnicity.count()"
   ]
  },
  {
   "cell_type": "code",
   "execution_count": 30,
   "metadata": {},
   "outputs": [
    {
     "data": {
      "image/png": "[encoded data removed]",
      "text/plain": [
       "<Figure size 432x288 with 1 Axes>"
      ]
     },
     "metadata": {
      "needs_background": "light"
     },
     "output_type": "display_data"
    }
   ],
   "source": [
    "fig2 = pd.DataFrame({'race_ethnicity':['All', 'Asian/PI', 'Black','Hispanic','Other','White'], 'Count':[all_count, asian_count,black_count, hispanic_count,other_count,white_count]})\n",
    "ax = fig2.plot.bar(x='race_ethnicity', y='Count', rot=0)"
   ]
  }
 ],
 "metadata": {
  "kernelspec": {
   "display_name": "Python 3",
   "language": "python",
   "name": "python3"
  },
  "language_info": {
   "codemirror_mode": {
    "name": "ipython",
    "version": 3
   },
   "file_extension": ".py",
   "mimetype": "text/x-python",
   "name": "python",
   "nbconvert_exporter": "python",
   "pygments_lexer": "ipython3",
   "version": "3.7.1"
  }
 },
 "nbformat": 4,
 "nbformat_minor": 2
}
